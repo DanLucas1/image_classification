{
 "cells": [
  {
   "cell_type": "code",
   "execution_count": 1,
   "id": "ca187e0c-b75f-4bfb-bc20-7869e7ab4d1a",
   "metadata": {},
   "outputs": [
    {
     "name": "stderr",
     "output_type": "stream",
     "text": [
      "Matplotlib created a temporary cache directory at /tmp/matplotlib-bvwqvhcv because the default path (/.config/matplotlib) is not a writable directory; it is highly recommended to set the MPLCONFIGDIR environment variable to a writable directory, in particular to speed up the import of Matplotlib and to better support multiprocessing.\n"
     ]
    }
   ],
   "source": [
    "import numpy as np\n",
    "import pandas as pd\n",
    "import matplotlib.pyplot as plt\n",
    "import os\n",
    "import shutil\n",
    "import pathlib\n",
    "import PIL\n",
    "from PIL import Image"
   ]
  },
  {
   "cell_type": "markdown",
   "id": "922bc75a-8889-438c-adc3-121f64f34e68",
   "metadata": {},
   "source": [
    "### Image Dataset Processing"
   ]
  },
  {
   "cell_type": "code",
   "execution_count": 2,
   "id": "4ddcb00a-7bb3-48c9-84e4-ffd3bab2ed5c",
   "metadata": {},
   "outputs": [
    {
     "name": "stdout",
     "output_type": "stream",
     "text": [
      "harp\n",
      "kemenche\n",
      "baglama\n",
      "electric_guitar\n",
      "oud\n",
      "acoustic_guitar\n",
      "violin\n",
      "mandolin\n",
      "yayli_tambur\n",
      "kanun\n"
     ]
    }
   ],
   "source": [
    "# rename images with nice clean label_number formulas\n",
    "for dir in os.listdir(os.getcwd()+'/instrument-images'):\n",
    "    print(dir)"
   ]
  },
  {
   "cell_type": "code",
   "execution_count": 3,
   "id": "7c53afb3-f04b-48b8-86d3-bb20539d4cd3",
   "metadata": {},
   "outputs": [
    {
     "name": "stdout",
     "output_type": "stream",
     "text": [
      "{'acoustic_guitar': 0, 'baglama': 1, 'electric_guitar': 2, 'harp': 3, 'kanun': 4, 'kemenche': 5, 'mandolin': 6, 'oud': 7, 'violin': 8, 'yayli_tambur': 9}\n",
      "{0: 'acoustic_guitar', 1: 'baglama', 2: 'electric_guitar', 3: 'harp', 4: 'kanun', 5: 'kemenche', 6: 'mandolin', 7: 'oud', 8: 'violin', 9: 'yayli_tambur'}\n"
     ]
    }
   ],
   "source": [
    "# create a labels dictionary\n",
    "img_dir = os.path.join(os.getcwd(), 'instrument-images')\n",
    "\n",
    "labels = {}\n",
    "\n",
    "for i, dir in enumerate(sorted(os.listdir(img_dir))):\n",
    "    labels[dir] = i\n",
    "\n",
    "inverted_labels = {v: k for k, v in labels.items()}\n",
    "\n",
    "print(labels)\n",
    "print(inverted_labels)"
   ]
  },
  {
   "cell_type": "code",
   "execution_count": 4,
   "id": "9c12e554-5f89-42c4-9051-2306813f0f30",
   "metadata": {},
   "outputs": [],
   "source": [
    "# rename images with nice clean \"label\"_\"number\" filenames, move to the 'instrument-images' directory\n",
    "for dir in os.listdir(img_dir):\n",
    "    dir_path = os.path.join(img_dir, dir)\n",
    "    \n",
    "    for i, file in enumerate(sorted(os.listdir(dir_path))):\n",
    "        old_file = os.path.join(dir_path, file)\n",
    "        new_file = os.path.join(img_dir, f'{dir}_{i+1}.jpg')\n",
    "        shutil.move(old_file, new_file)"
   ]
  },
  {
   "cell_type": "code",
   "execution_count": 5,
   "id": "c4d938a7-2415-4614-8560-59a6e4a56bc0",
   "metadata": {},
   "outputs": [],
   "source": [
    "# remove the empty subdirectories from 'instrument-images'\n",
    "for lmnt in os.listdir(img_dir):\n",
    "    if os.path.isdir(os.path.join(img_dir, lmnt)):\n",
    "        os.rmdir(os.path.join(img_dir, lmnt))"
   ]
  },
  {
   "cell_type": "code",
   "execution_count": 6,
   "id": "56695d8b-08c3-4cde-a45c-68b276be1704",
   "metadata": {
    "scrolled": true
   },
   "outputs": [
    {
     "name": "stderr",
     "output_type": "stream",
     "text": [
      "/opt/conda/lib/python3.10/site-packages/PIL/Image.py:970: UserWarning: Palette images with Transparency expressed in bytes should be converted to RGBA images\n",
      "  warnings.warn(\n"
     ]
    }
   ],
   "source": [
    "# image cleanup - everything to 8-bit rbg\n",
    "def convert_to_rgb(img_path):\n",
    "    with Image.open(img_path) as img:\n",
    "        if img.mode != 'RGB':\n",
    "            img = img.convert('RGB')\n",
    "        img.save(img_path)\n",
    "\n",
    "for filename in os.listdir(img_dir):\n",
    "    if filename.lower().endswith((\".jpg\", \".jpeg\", \".png\", \".gif\")):\n",
    "        img_path = os.path.join(img_dir, filename)\n",
    "        convert_to_rgb(img_path)"
   ]
  },
  {
   "cell_type": "code",
   "execution_count": 7,
   "id": "bf0aa337-2f7f-421a-904b-64bc9225a975",
   "metadata": {},
   "outputs": [],
   "source": [
    "# create a df of image names and labels to export to csv\n",
    "image_labels = pd.DataFrame(columns=['image', 'label'])\n",
    "image_list = []\n",
    "label_list = []\n",
    "\n",
    "for img in sorted(os.listdir(img_dir)):\n",
    "    image_list.append(img)\n",
    "    img_label = labels[img[0:img.rfind('_')]]\n",
    "    label_list.append(img_label)\n",
    "    # print(lmnt_label, lmnt)\n",
    "\n",
    "image_labels['image'] = image_list\n",
    "image_labels['label'] = label_list"
   ]
  },
  {
   "cell_type": "code",
   "execution_count": 8,
   "id": "4ea4197c-6e2b-4614-adc2-5e8ea8ee8fa6",
   "metadata": {},
   "outputs": [
    {
     "name": "stdout",
     "output_type": "stream",
     "text": [
      "label\n",
      "0    100\n",
      "1    100\n",
      "2    100\n",
      "3    100\n",
      "4    100\n",
      "5    100\n",
      "6    100\n",
      "7    100\n",
      "8    100\n",
      "9    100\n",
      "Name: count, dtype: int64\n"
     ]
    },
    {
     "data": {
      "text/html": [
       "<div>\n",
       "<style scoped>\n",
       "    .dataframe tbody tr th:only-of-type {\n",
       "        vertical-align: middle;\n",
       "    }\n",
       "\n",
       "    .dataframe tbody tr th {\n",
       "        vertical-align: top;\n",
       "    }\n",
       "\n",
       "    .dataframe thead th {\n",
       "        text-align: right;\n",
       "    }\n",
       "</style>\n",
       "<table border=\"1\" class=\"dataframe\">\n",
       "  <thead>\n",
       "    <tr style=\"text-align: right;\">\n",
       "      <th></th>\n",
       "      <th>image</th>\n",
       "      <th>label</th>\n",
       "    </tr>\n",
       "  </thead>\n",
       "  <tbody>\n",
       "    <tr>\n",
       "      <th>95</th>\n",
       "      <td>acoustic_guitar_95.jpg</td>\n",
       "      <td>0</td>\n",
       "    </tr>\n",
       "    <tr>\n",
       "      <th>96</th>\n",
       "      <td>acoustic_guitar_96.jpg</td>\n",
       "      <td>0</td>\n",
       "    </tr>\n",
       "    <tr>\n",
       "      <th>97</th>\n",
       "      <td>acoustic_guitar_97.jpg</td>\n",
       "      <td>0</td>\n",
       "    </tr>\n",
       "    <tr>\n",
       "      <th>98</th>\n",
       "      <td>acoustic_guitar_98.jpg</td>\n",
       "      <td>0</td>\n",
       "    </tr>\n",
       "    <tr>\n",
       "      <th>99</th>\n",
       "      <td>acoustic_guitar_99.jpg</td>\n",
       "      <td>0</td>\n",
       "    </tr>\n",
       "    <tr>\n",
       "      <th>100</th>\n",
       "      <td>baglama_1.jpg</td>\n",
       "      <td>1</td>\n",
       "    </tr>\n",
       "    <tr>\n",
       "      <th>101</th>\n",
       "      <td>baglama_10.jpg</td>\n",
       "      <td>1</td>\n",
       "    </tr>\n",
       "    <tr>\n",
       "      <th>102</th>\n",
       "      <td>baglama_100.jpg</td>\n",
       "      <td>1</td>\n",
       "    </tr>\n",
       "    <tr>\n",
       "      <th>103</th>\n",
       "      <td>baglama_11.jpg</td>\n",
       "      <td>1</td>\n",
       "    </tr>\n",
       "    <tr>\n",
       "      <th>104</th>\n",
       "      <td>baglama_12.jpg</td>\n",
       "      <td>1</td>\n",
       "    </tr>\n",
       "  </tbody>\n",
       "</table>\n",
       "</div>"
      ],
      "text/plain": [
       "                      image  label\n",
       "95   acoustic_guitar_95.jpg      0\n",
       "96   acoustic_guitar_96.jpg      0\n",
       "97   acoustic_guitar_97.jpg      0\n",
       "98   acoustic_guitar_98.jpg      0\n",
       "99   acoustic_guitar_99.jpg      0\n",
       "100           baglama_1.jpg      1\n",
       "101          baglama_10.jpg      1\n",
       "102         baglama_100.jpg      1\n",
       "103          baglama_11.jpg      1\n",
       "104          baglama_12.jpg      1"
      ]
     },
     "execution_count": 8,
     "metadata": {},
     "output_type": "execute_result"
    }
   ],
   "source": [
    "# confirm results\n",
    "print(image_labels.label.value_counts()) # confirm 100 of each label\n",
    "image_labels.iloc[95:105] # check a \"transition\" section of the df"
   ]
  },
  {
   "cell_type": "code",
   "execution_count": 9,
   "id": "656d05ee-b01a-4e32-a89b-e1feb0bbc65e",
   "metadata": {},
   "outputs": [],
   "source": [
    "# export CSV\n",
    "image_labels.to_csv(os.path.join(img_dir, 'image_labels.csv'), index=False)"
   ]
  }
 ],
 "metadata": {
  "kernelspec": {
   "display_name": "Python 3 (ipykernel)",
   "language": "python",
   "name": "python3"
  },
  "language_info": {
   "codemirror_mode": {
    "name": "ipython",
    "version": 3
   },
   "file_extension": ".py",
   "mimetype": "text/x-python",
   "name": "python",
   "nbconvert_exporter": "python",
   "pygments_lexer": "ipython3",
   "version": "3.10.13"
  }
 },
 "nbformat": 4,
 "nbformat_minor": 5
}
